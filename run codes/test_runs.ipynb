{
 "cells": [
  {
   "cell_type": "code",
   "execution_count": null,
   "metadata": {},
   "outputs": [],
   "source": [
    "import sys\n",
    "sys.path.append('C:/Users/PC/Documents/GitHub/Ugur-dynamic-scheduling/functions')\n",
    "from yeni_model import yeni_model\n",
    "from weighted_days_model import weighted_days_model\n",
    "from yeni_model2 import yeni_model2\n",
    "import vizings_schedule\n",
    "from generate_results import generate_results\n",
    "\n",
    "\n",
    "import random\n",
    "from pyomo.environ import *\n",
    "import numpy as np \n",
    "import pandas as pd\n",
    "import matplotlib.pyplot as plt\n",
    "import time\n",
    "import copy\n",
    "import math\n",
    "#random.seed(1)"
   ]
  },
  {
   "cell_type": "code",
   "execution_count": null,
   "metadata": {},
   "outputs": [],
   "source": [
    "n = 8\n",
    "teams = list(range(1,n+1))\n",
    "days = list((range(1,n)))\n",
    "\n",
    "#results_df = pd.read_excel('C:/Users/ug033207/match_resultlar.xlsx', sheet_name= 'Germany second half')"
   ]
  },
  {
   "cell_type": "code",
   "execution_count": null,
   "metadata": {},
   "outputs": [],
   "source": [
    "simulation_vizing = []\n",
    "simulation_canonical = []\n",
    "simulation_model = []\n",
    "time_list = []\n",
    "\n",
    "#time'ı da tutmak gerek bir noktada.\n",
    "\n",
    "for sim in range(1,101):\n",
    "    result_df, result_matrix = generate_results(teams)\n",
    "    start = time.time()\n",
    "    output, d1_df, d2_df, y_df, z_df, obj_model, l, l2=yeni_model(teams, days, result_matrix)\n",
    "    End = time.time()\n",
    "    simulation_model.append(obj_model)\n",
    "    time_list.append(End-start)\n",
    "    canon_schedule = []\n",
    "    vizing_schedule = []\n",
    "\n",
    "    for each_schedule in range (1,10001):\n",
    "        canon = vizings_schedule.canonical(n)\n",
    "        obj_canon= vizings_schedule.calculate_obj_value(n, canon, result_matrix)\n",
    "        vizing = vizings_schedule.vizing(n)\n",
    "        obj_vizing = vizings_schedule.calculate_obj_value(n, vizing, result_matrix)\n",
    "        canon_schedule.append(obj_canon)\n",
    "        vizing_schedule.append(obj_vizing)\n",
    "    \n",
    "    simulation_canonical.append(min(canon_schedule))\n",
    "    simulation_vizing.append(min(vizing_schedule))"
   ]
  },
  {
   "cell_type": "code",
   "execution_count": 5,
   "metadata": {},
   "outputs": [
    {
     "name": "stdout",
     "output_type": "stream",
     "text": [
      "[ 61  76  74  77  70  67  55  71  84  69  55  53  58  57  67 101  55  93\n",
      "  33  70  72  61  54  65  55  58  49  90  37  67  51  57  53  58  59  47\n",
      "  73  59  39  72  60  66  51  47  73  61  47  65  76  54  69  75  51  64\n",
      "  76  80  73  61  71  66  81  58  57  72  51  67  53  69  68  66  53  72\n",
      "  66  52  50  61  93  71  70  57  63  80  72  66  67  58  60  70  57  73\n",
      "  64  54  81  68  71  70  53  72  73  81]\n",
      "[33 39 43 30 36 38 30 38 32 39 35 26 26 35 32 69 35 45 24 37 42 31 28 39\n",
      " 34 31 28 49 29 31 29 30 31 36 32 31 47 29 28 39 48 29 32 25 46 32 40 43\n",
      " 53 31 33 38 28 37 50 41 40 40 33 35 49 38 36 30 29 36 32 36 29 36 27 30\n",
      " 27 33 28 28 35 30 27 27 28 30 43 27 33 31 35 32 33 29 39 29 41 40 36 33\n",
      " 36 33 44 39]\n",
      "[24. 33. 40. 24. 29. 29. 25. 33. 28. 29. 28. 25. 23. 25. 25. 68. 24. 34.\n",
      " 20. 30. 35. 23. 23. 32. 25. 23. 20. 39. 21. 18. 21. 28. 21. 27. 24. 23.\n",
      " 40. 20. 22. 31. 40. 25. 27. 16. 40. 26. 31. 35. 45. 24. 25. 29. 24. 28.\n",
      " 42. 33. 29. 31. 24. 27. 43. 29. 26. 20. 21. 30. 27. 31. 23. 26. 20. 26.\n",
      " 19. 25. 21. 24. 29. 27. 17. 22. 24. 25. 37. 24. 22. 26. 34. 26. 26. 24.\n",
      " 32. 21. 31. 32. 31. 29. 29. 27. 36. 29.]\n",
      "64.48\n",
      "34.84\n",
      "27.84\n",
      "363.50430136680603\n"
     ]
    }
   ],
   "source": [
    "print(simulation_canonical)\n",
    "print(simulation_vizing)\n",
    "print(simulation_model)\n",
    "simulation_canonical = np.array(simulation_canonical)\n",
    "simulation_vizing = np.array(simulation_vizing)\n",
    "simulation_model = np.array(simulation_model)\n",
    "time_list = np.array(time_list)\n",
    "\n",
    "print(np.mean(simulation_canonical))\n",
    "print(np.mean(simulation_vizing))\n",
    "print(np.mean(simulation_model))\n",
    "print(np.mean(time_list))"
   ]
  },
  {
   "cell_type": "code",
   "execution_count": 6,
   "metadata": {},
   "outputs": [],
   "source": [
    "df= pd.DataFrame({'Canonical_8teams': simulation_canonical, 'Vizing_8teams': simulation_vizing, 'Model_8teams': simulation_model, 'model_time': time_list})\n",
    "\n",
    "df.to_excel('C:/Users/PC/Documents/GitHub/Ugur-dynamic-scheduling/simulation_8teams2.xlsx', index = False)"
   ]
  }
 ],
 "metadata": {
  "kernelspec": {
   "display_name": "tezalmaz",
   "language": "python",
   "name": "python3"
  },
  "language_info": {
   "codemirror_mode": {
    "name": "ipython",
    "version": 3
   },
   "file_extension": ".py",
   "mimetype": "text/x-python",
   "name": "python",
   "nbconvert_exporter": "python",
   "pygments_lexer": "ipython3",
   "version": "3.11.8"
  }
 },
 "nbformat": 4,
 "nbformat_minor": 2
}
