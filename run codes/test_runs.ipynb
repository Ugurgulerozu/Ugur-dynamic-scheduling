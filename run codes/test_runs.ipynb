{
 "cells": [
  {
   "cell_type": "code",
   "execution_count": 1,
   "metadata": {},
   "outputs": [
    {
     "ename": "ModuleNotFoundError",
     "evalue": "No module named 'generate_results'",
     "output_type": "error",
     "traceback": [
      "\u001b[1;31m---------------------------------------------------------------------------\u001b[0m",
      "\u001b[1;31mModuleNotFoundError\u001b[0m                       Traceback (most recent call last)",
      "Cell \u001b[1;32mIn[1], line 3\u001b[0m\n\u001b[0;32m      1\u001b[0m \u001b[38;5;28;01mimport\u001b[39;00m \u001b[38;5;21;01msys\u001b[39;00m\n\u001b[0;32m      2\u001b[0m sys\u001b[38;5;241m.\u001b[39mpath\u001b[38;5;241m.\u001b[39mappend(\u001b[38;5;124m'\u001b[39m\u001b[38;5;124mC:/Users/ug033207/dynamic scheduling/dynamic-scheduling/functions\u001b[39m\u001b[38;5;124m'\u001b[39m)\n\u001b[1;32m----> 3\u001b[0m \u001b[38;5;28;01mfrom\u001b[39;00m \u001b[38;5;21;01mgenerate_results\u001b[39;00m \u001b[38;5;28;01mimport\u001b[39;00m generate_results\n\u001b[0;32m      4\u001b[0m \u001b[38;5;28;01mfrom\u001b[39;00m \u001b[38;5;21;01myeni_model\u001b[39;00m \u001b[38;5;28;01mimport\u001b[39;00m yeni_model\n\u001b[0;32m      5\u001b[0m \u001b[38;5;28;01mfrom\u001b[39;00m \u001b[38;5;21;01mweighted_days_model\u001b[39;00m \u001b[38;5;28;01mimport\u001b[39;00m weighted_days_model\n",
      "\u001b[1;31mModuleNotFoundError\u001b[0m: No module named 'generate_results'"
     ]
    }
   ],
   "source": [
    "import sys\n",
    "sys.path.append('C:/Users/ug033207/dynamic scheduling/dynamic-scheduling/functions')\n",
    "from generate_results import generate_results\n",
    "from yeni_model import yeni_model\n",
    "from weighted_days_model import weighted_days_model\n",
    "from yeni_model2 import yeni_model2\n",
    "import vizings_schedule\n",
    "\n",
    "\n",
    "import random\n",
    "from pyomo.environ import *\n",
    "import numpy as np \n",
    "import pandas as pd\n",
    "import matplotlib.pyplot as plt\n",
    "import time\n",
    "import copy\n",
    "import math\n",
    "#random.seed(1)"
   ]
  },
  {
   "cell_type": "code",
   "execution_count": null,
   "metadata": {},
   "outputs": [],
   "source": [
    "n = 6\n",
    "teams = list(range(1,n+1))\n",
    "days = list((range(1,n)))\n",
    "\n",
    "#results_df = pd.read_excel('C:/Users/ug033207/match_resultlar.xlsx', sheet_name= 'Germany second half')"
   ]
  },
  {
   "cell_type": "code",
   "execution_count": null,
   "metadata": {},
   "outputs": [
    {
     "name": "stdout",
     "output_type": "stream",
     "text": [
      "Optimal solution found.\n",
      "Team 1 vs Team 3 in Slot 1\n",
      "Team 2 vs Team 4 in Slot 1\n",
      "Team 1 vs Team 2 in Slot 2\n",
      "Team 3 vs Team 4 in Slot 2\n",
      "Team 1 vs Team 4 in Slot 3\n",
      "Team 2 vs Team 3 in Slot 3\n",
      "Optimal solution found.\n",
      "Team 1 vs Team 4 in Slot 1\n",
      "Team 2 vs Team 3 in Slot 1\n",
      "Team 1 vs Team 2 in Slot 2\n",
      "Team 3 vs Team 4 in Slot 2\n",
      "Team 1 vs Team 3 in Slot 3\n",
      "Team 2 vs Team 4 in Slot 3\n",
      "Optimal solution found.\n",
      "Team 1 vs Team 2 in Slot 1\n",
      "Team 3 vs Team 4 in Slot 1\n",
      "Team 1 vs Team 4 in Slot 2\n",
      "Team 2 vs Team 3 in Slot 2\n",
      "Team 1 vs Team 3 in Slot 3\n",
      "Team 2 vs Team 4 in Slot 3\n",
      "Optimal solution found.\n",
      "Team 1 vs Team 4 in Slot 1\n",
      "Team 2 vs Team 3 in Slot 1\n",
      "Team 1 vs Team 3 in Slot 2\n",
      "Team 2 vs Team 4 in Slot 2\n",
      "Team 1 vs Team 2 in Slot 3\n",
      "Team 3 vs Team 4 in Slot 3\n",
      "Optimal solution found.\n",
      "Team 1 vs Team 3 in Slot 1\n",
      "Team 2 vs Team 4 in Slot 1\n",
      "Team 1 vs Team 2 in Slot 2\n",
      "Team 3 vs Team 4 in Slot 2\n",
      "Team 1 vs Team 4 in Slot 3\n",
      "Team 2 vs Team 3 in Slot 3\n",
      "Optimal solution found.\n",
      "Team 1 vs Team 4 in Slot 1\n",
      "Team 2 vs Team 3 in Slot 1\n",
      "Team 1 vs Team 2 in Slot 2\n",
      "Team 3 vs Team 4 in Slot 2\n",
      "Team 1 vs Team 3 in Slot 3\n",
      "Team 2 vs Team 4 in Slot 3\n"
     ]
    }
   ],
   "source": [
    "simulation_vizing = []\n",
    "simulation_canonical = []\n",
    "simulation_model = []\n",
    "time_list = []\n",
    "\n",
    "#time'ı da tutmak gerek bir noktada.\n",
    "\n",
    "for sim in range(1,10001):\n",
    "    result_df, result_matrix = generate_results(teams)\n",
    "    start = time.time()\n",
    "    output, d1_df, d2_df, y_df, z_df, obj_model, l, l2=yeni_model(teams, days, result_matrix)\n",
    "    End = time.time()\n",
    "    simulation_model.append(obj_model)\n",
    "    time_list.append(End-start)\n",
    "    canon_schedule = []\n",
    "    vizing_schedule = []\n",
    "\n",
    "    for each_schedule in range (1,10001):\n",
    "        canon = vizings_schedule.canonical(n)\n",
    "        obj_canon= vizings_schedule.calculate_obj_value(n, canon, result_matrix)\n",
    "        vizing = vizings_schedule.vizing(n)\n",
    "        obj_vizing = vizings_schedule.calculate_obj_value(n, vizing, result_matrix)\n",
    "        canon_schedule.append(obj_canon)\n",
    "        vizing_schedule.append(obj_vizing)\n",
    "    \n",
    "    simulation_canonical.append(min(canon_schedule))\n",
    "    simulation_vizing.append(min(vizing_schedule))"
   ]
  },
  {
   "cell_type": "code",
   "execution_count": null,
   "metadata": {},
   "outputs": [
    {
     "name": "stdout",
     "output_type": "stream",
     "text": [
      "[6, 6, 6, 8, 12, 7, 6, 6, 6, 9, 5, 6, 7, 9, 8, 6, 6, 6, 6, 8, 7, 6, 5, 12, 0, 8, 6, 12, 6, 7, 7, 6, 5, 6, 5, 7, 6, 6, 12, 5, 3, 9, 6, 6, 7, 7, 6, 6, 6, 9, 7, 6, 6, 5, 10, 6, 9, 6, 6, 6, 6, 6, 9, 9, 6, 7, 5, 6, 10, 7, 8, 6, 6, 8, 7, 6, 6, 5, 6, 0, 6, 6, 7, 7, 6, 9, 7, 5, 6, 10, 12, 6, 7, 9, 6, 6, 6, 7, 8, 6]\n",
      "[6, 0, 7, 5, 5, 5, 6, 6, 5, 6, 6, 6, 5, 5, 6, 5, 6, 5, 6, 5, 5, 6, 5, 6, 0, 5, 5, 5, 6, 5, 6, 6, 6, 6, 6, 5, 6, 6, 6, 6, 3, 7, 6, 3, 6, 6, 6, 6, 3, 6, 6, 6, 6, 5, 5, 3, 5, 6, 6, 3, 6, 0, 6, 5, 6, 5, 6, 5, 5, 3, 5, 6, 7, 6, 7, 7, 6, 5, 0, 0, 3, 7, 6, 6, 0, 5, 6, 6, 0, 6, 6, 0, 6, 5, 6, 6, 6, 7, 5, 6]\n",
      "[6.0, 0.0, 6.0, 5.0, 5.0, 5.0, 6.0, 6.0, 5.0, 6.0, 5.0, 3.0, 5.0, 5.0, 5.0, 5.0, 6.0, 5.0, 6.0, 5.0, 5.0, 6.0, 5.0, 6.0, 0.0, 5.0, 5.0, 5.0, 6.0, 5.0, 6.0, 6.0, 5.0, 6.0, 5.0, 5.0, 6.0, 6.0, 6.0, 5.0, 3.0, 6.0, 6.0, 3.0, 6.0, 6.0, 6.0, 6.0, 3.0, 6.0, 6.0, 3.0, 6.0, 5.0, 5.0, 3.0, 5.0, 6.0, 6.0, 3.0, 6.0, 0.0, 6.0, 5.0, 6.0, 5.0, 5.0, 5.0, 5.0, 3.0, 5.0, 6.0, 6.0, 5.0, 7.0, 6.0, 6.0, 5.0, 0.0, 0.0, 3.0, 6.0, 6.0, 6.0, 0.0, 5.0, 6.0, 5.0, 0.0, 6.0, 6.0, 0.0, 6.0, 5.0, 6.0, 6.0, 6.0, 7.0, 5.0, 6.0]\n",
      "6.76\n",
      "5.1\n",
      "4.91\n"
     ]
    }
   ],
   "source": [
    "print(simulation_canonical)\n",
    "print(simulation_vizing)\n",
    "print(simulation_model)\n",
    "simulation_canonical = np.array(simulation_canonical)\n",
    "simulation_vizing = np.array(simulation_vizing)\n",
    "simulation_model = np.array(simulation_model)\n",
    "\n",
    "\n",
    "print(np.mean(simulation_canonical))\n",
    "print(np.mean(simulation_vizing))\n",
    "print(np.mean(simulation_model))"
   ]
  }
 ],
 "metadata": {
  "kernelspec": {
   "display_name": "tezalmaz",
   "language": "python",
   "name": "python3"
  },
  "language_info": {
   "codemirror_mode": {
    "name": "ipython",
    "version": 3
   },
   "file_extension": ".py",
   "mimetype": "text/x-python",
   "name": "python",
   "nbconvert_exporter": "python",
   "pygments_lexer": "ipython3",
   "version": "3.11.8"
  }
 },
 "nbformat": 4,
 "nbformat_minor": 2
}
