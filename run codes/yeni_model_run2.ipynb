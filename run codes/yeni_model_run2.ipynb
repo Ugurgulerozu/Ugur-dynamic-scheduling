{
 "cells": [
  {
   "cell_type": "code",
   "execution_count": 1,
   "metadata": {},
   "outputs": [],
   "source": [
    "import sys\n",
    "sys.path.append('C:/Users/ug033207/dynamic scheduling/dynamic-scheduling/functions')\n",
    "from point_rating import point_rating\n",
    "from first_model import first_model\n",
    "from yeni_model2 import yeni_model2\n",
    "from first_round_rating import first_round_rating\n",
    "from Elo_rating import Elo_rating\n",
    "from generate_results import generate_results\n",
    "from yeni_model import yeni_model\n",
    "from first_round_model import first_round_model\n",
    "\n",
    "\n",
    "\n",
    "import random\n",
    "from pyomo.environ import *\n",
    "import numpy as np \n",
    "import pandas as pd\n",
    "import matplotlib.pyplot as plt\n",
    "import time\n",
    "import copy\n",
    "import math\n",
    "random.seed(3)\n"
   ]
  },
  {
   "cell_type": "code",
   "execution_count": 2,
   "metadata": {},
   "outputs": [],
   "source": [
    "n = 18\n",
    "\n",
    "teams = list(range(1,n+1))\n",
    "days = list(range(1,n))\n",
    "\n",
    "results_df = pd.read_excel('C:/Users/ug033207/match_resultlar.xlsx', sheet_name= 'Germany first half')\n",
    "#results_df = generate_results(teams)\n",
    "#Germany\n",
    "#old_points = {1:77, 2:58, 3:69, 4:64, 5:11, 6:57, 7:55, 8:45, 9:42, 10:46, 11:52, 12:46, 13:33, 14:38, 15:42, 16:33, 17:28, 18:18}\n",
    "#old_points = {1:10, 2:8, 3:7, 4:5, 5:5, 6:1 ,7:12, 8:15} #\n",
    "#old_points = {1:86, 2:73, 3:71, 4:59, 5:70, 6:65, 7:62, 8:55, 9:46, 10:48, 11:39, 12:47, 13:39, 14:42, 15:38, 16:42, 17:36, 18:42, 19:39, 20:31}\n",
    "\n"
   ]
  },
  {
   "cell_type": "code",
   "execution_count": 3,
   "metadata": {},
   "outputs": [
    {
     "name": "stdout",
     "output_type": "stream",
     "text": [
      "[[0 1 1 3 3 1 3 1 3 3 1 3 1 0 3 3 3 3]\n",
      " [1 0 3 3 0 0 3 0 3 1 1 3 1 1 3 3 3 3]\n",
      " [1 0 0 3 3 0 3 0 0 3 0 3 3 3 3 3 0 3]\n",
      " [0 0 0 0 0 3 0 3 1 3 3 0 3 0 3 1 1 3]\n",
      " [0 3 0 3 0 3 1 3 0 1 1 3 3 3 0 1 3 3]\n",
      " [1 3 3 0 0 0 0 3 3 1 3 3 3 1 0 3 3 3]\n",
      " [0 0 0 3 1 3 0 1 0 3 3 1 3 3 3 1 3 3]\n",
      " [1 3 3 0 0 0 1 0 1 0 3 3 3 0 0 3 0 1]\n",
      " [0 0 3 1 3 0 3 1 0 3 0 3 3 1 3 3 1 1]\n",
      " [0 1 0 0 1 1 0 3 0 0 3 0 1 3 3 1 3 0]\n",
      " [1 1 3 0 1 0 0 0 3 0 0 1 1 3 1 0 3 3]\n",
      " [0 0 0 3 0 0 1 0 0 3 1 0 1 3 3 1 0 3]\n",
      " [1 1 0 0 0 0 0 0 0 1 1 1 0 3 3 3 1 1]\n",
      " [3 1 0 3 0 1 0 3 1 0 0 0 0 0 0 0 3 3]\n",
      " [0 0 0 0 3 3 0 3 0 0 1 0 0 3 0 3 0 0]\n",
      " [0 0 0 1 1 0 1 0 0 1 3 1 0 3 0 0 0 3]\n",
      " [0 0 3 1 0 0 0 3 1 0 0 3 1 0 3 3 0 3]\n",
      " [0 0 0 0 0 0 0 1 1 3 0 0 1 0 3 0 0 0]]\n"
     ]
    }
   ],
   "source": [
    "\n",
    "result_array = np.zeros((n, n), dtype=int)\n",
    "\n",
    "# Update the array based on your conditions\n",
    "for _, row in results_df.iterrows():\n",
    "    result = row['Result']\n",
    "    team1 = row['Team 1']\n",
    "    team2 = row['Team 2']\n",
    "\n",
    "    index_team1 = teams.index(team1)\n",
    "    index_team2 = teams.index(team2)\n",
    "\n",
    "    if team1 == result:\n",
    "        result_array[index_team1, index_team2] = 3\n",
    "    elif team2 == result:\n",
    "        result_array[index_team2, index_team1] = 3\n",
    "    else:\n",
    "        result_array[index_team1, index_team2] = 1\n",
    "        result_array[index_team2, index_team1] = 1\n",
    "print(result_array)\n",
    "data = pd.DataFrame(result_array, columns=teams, index=teams)\n",
    "#print(data)\n",
    "output, d1_df, d2_df, obj_value, l, l2 = yeni_model(teams, days, data)"
   ]
  },
  {
   "cell_type": "code",
   "execution_count": null,
   "metadata": {},
   "outputs": [
    {
     "name": "stdout",
     "output_type": "stream",
     "text": [
      "   Day Team 1 Team 2\n",
      "0    1      1      4\n",
      "1    1      3      5\n",
      "2    1      6      2\n",
      "3    2      3      1\n",
      "4    2      4      2\n",
      "5    2      6      5\n",
      "6    3      1      5\n",
      "7    3      2      3\n",
      "8    3      6      4\n",
      "9    4      1      6\n",
      "10   4      2      5\n",
      "11   4      3      4\n",
      "12   5      2      1\n",
      "13   5      4      5\n",
      "14   5      6      3\n",
      "   Day Team 1  Value\n",
      "0    1      1    0.0\n",
      "1    1      3    0.0\n",
      "2    1      6    0.0\n",
      "3    2      3    1.0\n",
      "4    2      4    1.0\n",
      "5    2      6    1.0\n",
      "6    3      1    2.0\n",
      "7    3      2    1.0\n",
      "8    3      6    2.0\n",
      "9    4      1    5.0\n",
      "10   4      2    2.0\n",
      "11   4      3    3.0\n",
      "12   5      2    3.0\n",
      "13   5      4    4.0\n",
      "14   5      6    8.0\n",
      "   Day Team 2  Value\n",
      "0    1      4    0.0\n",
      "1    1      5    0.0\n",
      "2    1      2    0.0\n",
      "3    2      1    1.0\n",
      "4    2      2    1.0\n",
      "5    2      5    1.0\n",
      "6    3      5    2.0\n",
      "7    3      3    2.0\n",
      "8    3      4    4.0\n",
      "9    4      6    5.0\n",
      "10   4      5    2.0\n",
      "11   4      4    4.0\n",
      "12   5      1    5.0\n",
      "13   5      5    3.0\n",
      "14   5      3    6.0\n"
     ]
    }
   ],
   "source": [
    "print(output)\n",
    "#output.to_excel('C:/Users/ug033207/solution.xlsx', sheet_name= 'Germany first half', index=False)\n",
    "print(d1_df)\n",
    "print(d2_df)\n"
   ]
  },
  {
   "cell_type": "code",
   "execution_count": null,
   "metadata": {},
   "outputs": [
    {
     "name": "stdout",
     "output_type": "stream",
     "text": [
      "[0.0, 0.0, 0.0, 0.0, 0.0, 6.661338147750939e-16, 8.881784197001252e-16, 1.0000000000000382, 2.0, 8.881784197001252e-16, 4.440892098500626e-16, 1.0, 2.0, 1.0, 1.9999999999999991]\n",
      "9.000000000000039\n",
      "[0.0, 0.0, 0.0, 0.0, 0.0, 0.0, 0.0, 1.0, 2.0, 0.0, 0.0, 1.0, 2.0, 1.0, 2.0]\n",
      "9.0\n"
     ]
    }
   ],
   "source": [
    "print(l)\n",
    "print(sum(l))\n",
    "print(l2)\n",
    "print(sum(l2))"
   ]
  },
  {
   "cell_type": "code",
   "execution_count": null,
   "metadata": {},
   "outputs": [
    {
     "name": "stdout",
     "output_type": "stream",
     "text": [
      "15.000000000000073\n"
     ]
    }
   ],
   "source": [
    "print(obj_value)\n"
   ]
  },
  {
   "cell_type": "code",
   "execution_count": null,
   "metadata": {},
   "outputs": [],
   "source": [
    "excel_writer = pd.ExcelWriter('C:/Users/ug033207/8 takim(mutlak model).xlsx', engine='xlsxwriter')\n",
    "\n",
    "# Write each DataFrame to a different sheet\n",
    "output.to_excel(excel_writer, sheet_name='solution', index=False)\n",
    "d2_df.to_excel(excel_writer, sheet_name='d2', index=False)\n",
    "d1_df.to_excel(excel_writer, sheet_name='d1', index=False)"
   ]
  }
 ],
 "metadata": {
  "kernelspec": {
   "display_name": "tezalmaz",
   "language": "python",
   "name": "python3"
  },
  "language_info": {
   "codemirror_mode": {
    "name": "ipython",
    "version": 3
   },
   "file_extension": ".py",
   "mimetype": "text/x-python",
   "name": "python",
   "nbconvert_exporter": "python",
   "pygments_lexer": "ipython3",
   "version": "3.9.18"
  }
 },
 "nbformat": 4,
 "nbformat_minor": 2
}
